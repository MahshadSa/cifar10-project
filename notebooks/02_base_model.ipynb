{
 "cells": [
  {
   "cell_type": "markdown",
   "id": "80b0765c",
   "metadata": {},
   "source": [
    "CIFAR-10 Base Model"
   ]
  },
  {
   "cell_type": "code",
   "execution_count": 1,
   "id": "386fe164",
   "metadata": {},
   "outputs": [],
   "source": [
    "import torch\n",
    "import torch.nn as nn\n",
    "import torch.optim as optim\n",
    "import torch.nn.functional as F\n",
    "from torch.utils.data import DataLoader\n",
    "from torchvision import datasets, transforms\n",
    "import matplotlib.pyplot as plt\n",
    "import numpy as np\n",
    "from tqdm import tqdm\n",
    "import seaborn as sns\n"
   ]
  },
  {
   "cell_type": "code",
   "execution_count": 2,
   "id": "c21d0ad7",
   "metadata": {},
   "outputs": [
    {
     "name": "stdout",
     "output_type": "stream",
     "text": [
      "Using device: cuda\n"
     ]
    }
   ],
   "source": [
    "device = torch.device('cuda' if torch.cuda.is_available() else 'cpu')\n",
    "print(f\"Using device: {device}\")\n"
   ]
  },
  {
   "cell_type": "code",
   "execution_count": 3,
   "id": "598d32fd",
   "metadata": {},
   "outputs": [],
   "source": [
    "train_data = datasets.CIFAR10(root='./data', train=True, download=False, transform=transforms.ToTensor())\n",
    "test_data=datasets.CIFAR10(root='./data', train=False, download=False, transform=transforms.ToTensor())\n",
    "\n",
    "train_dataloader = DataLoader(train_data, shuffle=True, batch_size=4, num_workers=2, pin_memory=True)\n",
    "test_dataloader = DataLoader(test_data, shuffle=False, batch_size=4, num_workers=2, pin_memory=True)\n",
    "\n",
    "images, labels=next(iter(train_dataloader))"
   ]
  },
  {
   "cell_type": "code",
   "execution_count": 4,
   "id": "b9464247",
   "metadata": {},
   "outputs": [],
   "source": [
    "class Net(nn.Module):\n",
    "    def __init__(self, num_classes):\n",
    "        super().__init__()\n",
    "        self.feature_extractor=nn.Sequential(\n",
    "            nn.Conv2d(3, 32, kernel_size=3, padding=1),\n",
    "            nn.ReLU(),\n",
    "            nn.MaxPool2d(kernel_size=2),\n",
    "            nn.Conv2d(32, 64, kernel_size=3, padding=1),\n",
    "            nn.ReLU(),\n",
    "            nn.MaxPool2d(kernel_size=2),\n",
    "            nn.Conv2d(64, 128, kernel_size=3, padding=1),\n",
    "            nn.ReLU(),\n",
    "            nn.MaxPool2d(kernel_size=2),\n",
    "            nn.Flatten(),\n",
    "        )\n",
    "        self.classifier=nn.Linear(128 * 4 * 4, num_classes)\n",
    "    def forward(self, x):\n",
    "        x=self.feature_extractor(x)\n",
    "        x=self.classifier(x)\n",
    "        return(x)"
   ]
  },
  {
   "cell_type": "code",
   "execution_count": 5,
   "id": "b7aa5cf3",
   "metadata": {},
   "outputs": [],
   "source": [
    "net= Net(num_classes=10).to(device)\n",
    "criterion=nn.CrossEntropyLoss()\n",
    "optimizer=optim.Adam(net.parameters(), lr=0.001)\n",
    "\n",
    "for epoch in range(10):\n",
    "    for images, labels in train_dataloader:\n",
    "        images, labels = images.to(device), labels.to(device)\n",
    "        optimizer.zero_grad()\n",
    "        output=net(images)\n",
    "        loss=criterion(output, labels)\n",
    "        loss.backward()\n",
    "        optimizer.step()\n",
    "    "
   ]
  },
  {
   "cell_type": "code",
   "execution_count": 6,
   "id": "72850f65",
   "metadata": {},
   "outputs": [
    {
     "name": "stderr",
     "output_type": "stream",
     "text": [
      "Evaluating: 100%|██████████| 2500/2500 [00:21<00:00, 115.52it/s]"
     ]
    },
    {
     "name": "stdout",
     "output_type": "stream",
     "text": [
      "Precision: 0.6865\n",
      "Recall: 0.6669\n",
      " Accuracy: 0.6668999791145325\n"
     ]
    },
    {
     "name": "stderr",
     "output_type": "stream",
     "text": [
      "\n"
     ]
    }
   ],
   "source": [
    "from torchmetrics import Recall, Precision, Accuracy\n",
    "metric_precision= Precision(task='multiclass', num_classes=10, average='macro')\n",
    "metric_recall=Recall(task='multiclass', num_classes=10, average='macro')\n",
    "metric_acc=Accuracy(task='multiclass', num_classes=10, average='micro')\n",
    "\n",
    "net.eval()\n",
    "with torch.no_grad():\n",
    "    for images, labels in tqdm(test_dataloader, desc=\"Evaluating\"):\n",
    "        images, labels = images.to(device), labels.to(device)\n",
    "        output = net(images)\n",
    "        preds = torch.argmax(output, dim=1)\n",
    "        metric_acc(preds.cpu(), labels.cpu())   \n",
    "        metric_precision(preds.cpu(), labels.cpu())\n",
    "        metric_recall(preds.cpu(), labels.cpu())\n",
    "\n",
    "\n",
    "precision= metric_precision.compute()\n",
    "recall= metric_recall.compute()\n",
    "accuracy= metric_acc.compute()\n",
    "\n",
    "print(f\"Precision: {precision:.4f}\")\n",
    "print(f\"Recall: {recall:.4f}\")\n",
    "print(f\" Accuracy: {accuracy}\")"
   ]
  },
  {
   "cell_type": "code",
   "execution_count": null,
   "id": "80b79318",
   "metadata": {},
   "outputs": [
    {
     "name": "stdout",
     "output_type": "stream",
     "text": [
      "{'airplane': 0, 'automobile': 1, 'bird': 2, 'cat': 3, 'deer': 4, 'dog': 5, 'frog': 6, 'horse': 7, 'ship': 8, 'truck': 9}\n"
     ]
    }
   ],
   "source": [
    "print(test_data.class_to_idx)"
   ]
  },
  {
   "cell_type": "markdown",
   "id": "bfe26b40",
   "metadata": {},
   "source": [
    "macro :\n",
    "    Precision: 0.6626312732696533\n",
    "    Recall: 0.6531000137329102\n",
    "\n",
    "micro:\n",
    "    Precision: tensor([0.7547, 0.8243, 0.4681, 0.4786, 0.6607, 0.5382, 0.6672, 0.7100, 0.7332,\n",
    "        0.7912])\n",
    "    Recall: tensor([0.5660, 0.7880, 0.6540, 0.4250, 0.5570, 0.5560, 0.7740, 0.6610, 0.8300,\n",
    "        0.7200])\n",
    "    Accuracy: tensor([0.5660, 0.7880, 0.6540, 0.4250, 0.5570, 0.5560, 0.7740, 0.6610, 0.8300,\n",
    "        0.7200])\n",
    "{'airplane': 0, 'automobile': 1, 'bird': 2, 'cat': 3, 'deer': 4, 'dog': 5, 'frog': 6, 'horse': 7, 'ship': 8, 'truck': 9}"
   ]
  },
  {
   "cell_type": "code",
   "execution_count": null,
   "id": "d9989926",
   "metadata": {},
   "outputs": [
    {
     "name": "stdout",
     "output_type": "stream",
     "text": [
      "False\n"
     ]
    }
   ],
   "source": [
    "print(torch.cuda.is_available()) "
   ]
  }
 ],
 "metadata": {
  "kernelspec": {
   "display_name": "venv",
   "language": "python",
   "name": "python3"
  },
  "language_info": {
   "codemirror_mode": {
    "name": "ipython",
    "version": 3
   },
   "file_extension": ".py",
   "mimetype": "text/x-python",
   "name": "python",
   "nbconvert_exporter": "python",
   "pygments_lexer": "ipython3",
   "version": "3.12.7"
  }
 },
 "nbformat": 4,
 "nbformat_minor": 5
}
